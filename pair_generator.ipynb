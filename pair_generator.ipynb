{
 "cells": [
  {
   "cell_type": "markdown",
   "id": "a06760cc-56a2-48fe-ac47-0ce5a423e48f",
   "metadata": {},
   "source": [
    "## Generating Order for Round 1 Assessment\n",
    "To prevent bias in assessing model quality, the order of few shot and zero shot models has been randomized. Additionally, the order of model ID's has also been randomized to prevent too many cases in the same domain appearing consecutively."
   ]
  },
  {
   "cell_type": "code",
   "execution_count": 1,
   "id": "c01482b7-aa0b-47ae-bbbc-af4edf555fd3",
   "metadata": {},
   "outputs": [
    {
     "name": "stdout",
     "output_type": "stream",
     "text": [
      "1. Zero_shot_CEM_110\n",
      "2. Few_shot_CEM_110\n",
      "3. Few_shot_FTP_1071\n",
      "4. Zero_shot_FTP_1071\n",
      "5. Zero_shot_IOPM_855\n",
      "6. Few_shot_IOPM_855\n",
      "7. Few_shot_FTP_1150\n",
      "8. Zero_shot_FTP_1150\n",
      "9. Zero_shot_CEM_1000\n",
      "10. Few_shot_CEM_1000\n",
      "11. Few_shot_CEM_975\n",
      "12. Zero_shot_CEM_975\n",
      "13. Few_shot_IOPM_585\n",
      "14. Zero_shot_IOPM_585\n",
      "15. Zero_shot_CEM_435\n",
      "16. Few_shot_CEM_435\n"
     ]
    }
   ],
   "source": [
    "import random\n",
    "\n",
    "# List of IDs\n",
    "ids = [\n",
    "    \"FTP_1071\",\n",
    "    \"FTP_1150\",\n",
    "    \"CEM_435\",\n",
    "    \"CEM_110\",\n",
    "    \"IOPM_855\",\n",
    "    \"IOPM_585\",\n",
    "    \"CEM_975\",\n",
    "    \"CEM_1000\"\n",
    "]\n",
    "\n",
    "# Shuffle the list of IDs\n",
    "random.shuffle(ids)\n",
    "\n",
    "# For each ID, create the Zero-shot and Few-shot pair, and randomize the order inside the pair\n",
    "final_order = []\n",
    "\n",
    "for id_ in ids:\n",
    "    pair = [f\"Zero_shot_{id_}\", f\"Few_shot_{id_}\"]\n",
    "    random.shuffle(pair)  # Randomize within the pair\n",
    "    final_order.extend(pair)\n",
    "\n",
    "# Output the final randomized list\n",
    "for idx, name in enumerate(final_order, 1):\n",
    "    print(f\"{idx}. {name}\")"
   ]
  },
  {
   "cell_type": "markdown",
   "id": "022a53d4-2283-4d24-821e-018eb4e58d96",
   "metadata": {},
   "source": [
    "### Final Order Used in Round 1 \n",
    "#### (above output might differ due to regeneration)\n",
    "1. Few_shot_IOPM_855\n",
    "2. Zero_shot_IOPM_855\n",
    "3. Zero_shot_CEM_975\n",
    "4. Few_shot_CEM_975\n",
    "5. Zero_shot_FTP_1071\n",
    "6. Few_shot_FTP_1071\n",
    "7. Zero_shot_FTP_1150\n",
    "8. Few_shot_FTP_1150\n",
    "9. Zero_shot_CEM_1000\n",
    "10. Few_shot_CEM_1000\n",
    "11. Zero_shot_CEM_435\n",
    "12. Few_shot_CEM_435\n",
    "13. Zero_shot_IOPM_585\n",
    "14. Few_shot_IOPM_585\n",
    "15. Few_shot_CEM_110\n",
    "16. Zero_shot_CEM_110"
   ]
  },
  {
   "cell_type": "markdown",
   "id": "c04adf72-7362-42ff-9486-9381ba7f361e",
   "metadata": {},
   "source": [
    "## Generating Order for Round 2 Assessment\n",
    "Now for round 2, the expert is shown three different models for each case, two of which correspond to two human modelers, and one corresponds to the LLM generated model. The below code is used to randomly order the three different models to prevent bias."
   ]
  },
  {
   "cell_type": "code",
   "execution_count": 20,
   "id": "8794d7b0-a789-47a7-ad41-87ec127e9477",
   "metadata": {},
   "outputs": [
    {
     "name": "stdout",
     "output_type": "stream",
     "text": [
      "['IOPM_855_Human_A',\n",
      " 'IOPM_855_Human_B',\n",
      " 'IOPM_855_LLM',\n",
      " 'CEM_435_Human_A',\n",
      " 'CEM_435_LLM',\n",
      " 'CEM_435_Human_B',\n",
      " 'FTP_1071_Human_A',\n",
      " 'FTP_1071_LLM',\n",
      " 'FTP_1071_Human_B',\n",
      " 'CEM_975_Human_B',\n",
      " 'CEM_975_Human_A',\n",
      " 'CEM_975_LLM',\n",
      " 'IOPM_585_Human_B',\n",
      " 'IOPM_585_Human_A',\n",
      " 'IOPM_585_LLM',\n",
      " 'CEM_110_LLM',\n",
      " 'CEM_110_Human_B',\n",
      " 'CEM_110_Human_A',\n",
      " 'FTP_1150_Human_A',\n",
      " 'FTP_1150_Human_B',\n",
      " 'FTP_1150_LLM',\n",
      " 'CEM_1000_Human_B',\n",
      " 'CEM_1000_LLM',\n",
      " 'CEM_1000_Human_A']\n"
     ]
    }
   ],
   "source": [
    "import random\n",
    "from pprint import pprint\n",
    "\n",
    "# --- 1) list the eight cases --------------------------------------------------\n",
    "cases = [\n",
    "    \"FTP_1071\",\n",
    "    \"FTP_1150\",\n",
    "    \"CEM_435\",\n",
    "    \"CEM_110\",\n",
    "    \"IOPM_855\",\n",
    "    \"IOPM_585\",\n",
    "    \"CEM_975\",\n",
    "    \"CEM_1000\",\n",
    "]\n",
    "\n",
    "# --- 2) list the three model flavours per case --------------------------------\n",
    "models = [\"Human_A\", \"Human_B\", \"LLM\"]      \n",
    "\n",
    "# ----------------------------------------------------------------------------- #\n",
    "# Shuffle the list of IDs\n",
    "random.shuffle(cases)\n",
    "\n",
    "# Shuffle three model labels within each ID\n",
    "final_sequence = []\n",
    "for cid in cases:\n",
    "    shuffled = models[:]          # local copy\n",
    "    random.shuffle(shuffled)\n",
    "    # prepend the case-ID to each model label for clarity\n",
    "    final_sequence.extend([f\"{cid}_{m}\" for m in shuffled])\n",
    "\n",
    "# Pretty-print the resulting 24-item order\n",
    "pprint(final_sequence, width=80)\n"
   ]
  },
  {
   "cell_type": "markdown",
   "id": "16a2ed57-200e-439b-a012-13db93b8223e",
   "metadata": {},
   "source": [
    "### Final Order Used in Round 2\n",
    "#### (above output might differ due to regeneration)\n",
    "'IOPM_855_Human_A',\n",
    " 'IOPM_855_Human_B',\n",
    " 'IOPM_855_LLM',\n",
    " 'CEM_435_Human_A',\n",
    " 'CEM_435_LLM',\n",
    " 'CEM_435_Human_B',\n",
    " 'FTP_1071_Human_A',\n",
    " 'FTP_1071_LLM',\n",
    " 'FTP_1071_Human_B',\n",
    " 'CEM_975_Human_B',\n",
    " 'CEM_975_Human_A',\n",
    " 'CEM_975_LLM',\n",
    " 'IOPM_585_Human_B',\n",
    " 'IOPM_585_Human_A',\n",
    " 'IOPM_585_LLM',\n",
    " 'CEM_110_LLM',\n",
    " 'CEM_110_Human_B',\n",
    " 'CEM_110_Human_A',\n",
    " 'FTP_1150_Human_A',\n",
    " 'FTP_1150_Human_B',\n",
    " 'FTP_1150_LLM',\n",
    " 'CEM_1000_Human_B',\n",
    " 'CEM_1000_LLM',\n",
    " 'CEM_1000_Human_A"
   ]
  },
  {
   "cell_type": "markdown",
   "id": "3c1e79c6-65c3-459e-ab48-c6f02c8899c5",
   "metadata": {},
   "source": [
    "### Apply order to actual cases and save in final zip file\n",
    "The zip file was extracted and uploaded to Google Drive to provide the experts with all models, without knowing their original label"
   ]
  },
  {
   "cell_type": "code",
   "execution_count": 27,
   "id": "56b5745f-8b1f-42d0-8ac8-44162ebff8af",
   "metadata": {},
   "outputs": [
    {
     "name": "stdout",
     "output_type": "stream",
     "text": [
      "✅  Extracted user_bdd_sample_set.zip into → /home/jorick/documents/unzipped_models\n"
     ]
    }
   ],
   "source": [
    "import zipfile\n",
    "from pathlib import Path\n",
    "\n",
    "# ---- configuration -------------------------------------------------\n",
    "zip_path = Path(\"user_bdd_sample_set.zip\")      \n",
    "extract_to = Path(\"unzipped_models\")            \n",
    "# --------------------------------------------------------------------\n",
    "\n",
    "extract_to.mkdir(exist_ok=True)\n",
    "\n",
    "# Unzip\n",
    "with zipfile.ZipFile(zip_path, \"r\") as z:\n",
    "    z.extractall(extract_to)\n",
    "\n",
    "print(f\"✅  Extracted {zip_path} into → {extract_to.resolve()}\")"
   ]
  },
  {
   "cell_type": "code",
   "execution_count": 30,
   "id": "5c36fcc6-322b-4b01-99cc-25ae876f1fa5",
   "metadata": {},
   "outputs": [
    {
     "name": "stdout",
     "output_type": "stream",
     "text": [
      "Copied IOPM_855_Human_A → cases/IOPM_855/model_A\n",
      "Copied IOPM_855_Human_B → cases/IOPM_855/model_B\n",
      "Copied IOPM_855_LLM → cases/IOPM_855/model_C\n",
      "Copied CEM_435_Human_A → cases/CEM_435/model_A\n",
      "Copied CEM_435_LLM → cases/CEM_435/model_B\n",
      "Copied CEM_435_Human_B → cases/CEM_435/model_C\n",
      "Copied FTP_1071_Human_A → cases/FTP_1071/model_A\n",
      "Copied FTP_1071_LLM → cases/FTP_1071/model_B\n",
      "Copied FTP_1071_Human_B → cases/FTP_1071/model_C\n",
      "Copied CEM_975_Human_B → cases/CEM_975/model_A\n",
      "Copied CEM_975_Human_A → cases/CEM_975/model_B\n",
      "Copied CEM_975_LLM → cases/CEM_975/model_C\n",
      "Copied IOPM_585_Human_B → cases/IOPM_585/model_A\n",
      "Copied IOPM_585_Human_A → cases/IOPM_585/model_B\n",
      "Copied IOPM_585_LLM → cases/IOPM_585/model_C\n",
      "Copied CEM_110_LLM → cases/CEM_110/model_A\n",
      "Copied CEM_110_Human_B → cases/CEM_110/model_B\n",
      "Copied CEM_110_Human_A → cases/CEM_110/model_C\n",
      "Copied FTP_1150_Human_A → cases/FTP_1150/model_A\n",
      "Copied FTP_1150_Human_B → cases/FTP_1150/model_B\n",
      "Copied FTP_1150_LLM → cases/FTP_1150/model_C\n",
      "Copied CEM_1000_Human_B → cases/CEM_1000/model_A\n",
      "Copied CEM_1000_LLM → cases/CEM_1000/model_B\n",
      "Copied CEM_1000_Human_A → cases/CEM_1000/model_C\n",
      "\n",
      "Done. Check the 'cases' folder.\n"
     ]
    }
   ],
   "source": [
    "import os, shutil, re\n",
    "from pathlib import Path\n",
    "\n",
    "src_roots = {\n",
    "    \"Human_A\": \"Alice\",\n",
    "    \"Human_B\": \"Arne\",\n",
    "    \"LLM\"    : \"LLM\"\n",
    "}\n",
    "\n",
    "dst_root = Path(\"cases\")          # where the reorganised tree will be written\n",
    "png_pattern = re.compile(r\".*\\.png$\", re.I)   # copy only PNGs\n",
    "# -------------------------------------------------------------------------\n",
    "\n",
    "dst_root.mkdir(exist_ok=True)\n",
    "\n",
    "for label in final_sequence:\n",
    "    m = re.match(r\"(?P<id>.+)_(?P<author>Human_[AB]|LLM)$\", label)\n",
    "    if not m:\n",
    "        raise ValueError(f\"Label format unexpected: {label}\")\n",
    "    case_id   = m[\"id\"]\n",
    "    author    = m[\"author\"]\n",
    "\n",
    "    src_dir = Path(\"unzipped_models\") / src_roots[author] / f\"{case_id} visuals\"\n",
    "    if not src_dir.is_dir():\n",
    "        print(f\"⚠️  Source folder missing: {src_dir}\")\n",
    "        continue\n",
    "\n",
    "    case_base = dst_root / case_id\n",
    "    case_base.mkdir(exist_ok=True)\n",
    "\n",
    "    existing = sorted(p for p in case_base.iterdir() if p.is_dir())\n",
    "    next_letter = chr(ord(\"A\") + len(existing))\n",
    "    dst_dir = case_base / f\"model_{next_letter}\"\n",
    "    dst_dir.mkdir()\n",
    "\n",
    "    # Copy the two PNGs\n",
    "    for f in src_dir.iterdir():\n",
    "        if png_pattern.match(f.name):\n",
    "            shutil.copy2(f, dst_dir / f.name)\n",
    "\n",
    "    print(f\"Copied {label} → {dst_dir}\")\n",
    "\n",
    "print(\"\\nDone. Check the 'cases' folder.\")\n"
   ]
  },
  {
   "cell_type": "markdown",
   "id": "33bb2858-65ec-4e27-a8a7-b79b5780a88d",
   "metadata": {},
   "source": [
    "### Ensure File Names are Standardized across Modelers\n",
    "Before the below step, each modeler still had different naming conventions for saving their UML Use Case diagram and BPMN files. Without renaming, this would allow identification of the modeler, leading to bias. "
   ]
  },
  {
   "cell_type": "code",
   "execution_count": 31,
   "id": "2417056d-efc8-4846-b059-f07caa088618",
   "metadata": {},
   "outputs": [
    {
     "name": "stdout",
     "output_type": "stream",
     "text": [
      "✓  cases/IOPM_855/model_A/IOPM_855.png  ➜  UML Use Case.png\n",
      "✓  cases/IOPM_855/model_A/IOPM_855[1].png  ➜  BPMN.png\n",
      "✓  cases/IOPM_855/model_B/IOPM_855.png  ➜  UML Use Case.png\n",
      "✓  cases/CEM_975/model_A/CEM_975.png  ➜  UML Use Case.png\n",
      "✓  cases/CEM_975/model_B/CEM_975.png  ➜  UML Use Case.png\n",
      "✓  cases/CEM_975/model_B/CEM_975[1].png  ➜  BPMN.png\n",
      "✓  cases/FTP_1150/model_A/FTP_1150[1].png  ➜  BPMN.png\n",
      "✓  cases/FTP_1150/model_A/FTP_1150.png  ➜  UML Use Case.png\n",
      "✓  cases/FTP_1150/model_B/FTP_1150.png  ➜  UML Use Case.png\n",
      "✓  cases/CEM_435/model_A/CEM_435[1].png  ➜  BPMN.png\n",
      "✓  cases/CEM_435/model_A/CEM_435.png  ➜  UML Use Case.png\n",
      "✓  cases/CEM_435/model_C/CEM_435.png  ➜  UML Use Case.png\n",
      "✓  cases/CEM_1000/model_A/CEM_1000.png  ➜  UML Use Case.png\n",
      "✓  cases/CEM_1000/model_C/CEM_1000.png  ➜  UML Use Case.png\n",
      "✓  cases/CEM_1000/model_C/CEM_1000[1].png  ➜  BPMN.png\n",
      "✓  cases/FTP_1071/model_A/FTP_1071.png  ➜  UML Use Case.png\n",
      "✓  cases/FTP_1071/model_C/FTP_1071.png  ➜  UML Use Case.png\n",
      "✓  cases/CEM_110/model_B/CEM_110.png  ➜  UML Use Case.png\n",
      "✓  cases/CEM_110/model_C/CEM_110[1].png  ➜  BPMN.png\n",
      "✓  cases/CEM_110/model_C/CEM_110.png  ➜  UML Use Case.png\n",
      "✓  cases/IOPM_585/model_A/IOPM_585.png  ➜  UML Use Case.png\n",
      "✓  cases/IOPM_585/model_B/IOPM_585.png  ➜  UML Use Case.png\n",
      "✓  cases/IOPM_585/model_B/IOPM_585[1].png  ➜  BPMN.png\n"
     ]
    }
   ],
   "source": [
    "import re\n",
    "from pathlib import Path\n",
    "from shutil import move\n",
    "\n",
    "CASES_ROOT = Path(\"cases\")          # adjust if you put it elsewhere\n",
    "ID_PATTERN = re.compile(r\"^([A-Z]+_\\d+)(?:\\[1\\])?\\.png$\", re.IGNORECASE)\n",
    "\n",
    "def canonical_name(original: Path) -> str | None:\n",
    "    \"\"\"\n",
    "    Decide which canonical filename a given PNG should receive.\n",
    "    Returns 'UML Use Case.png', 'BPMN.png', or None (leave unchanged).\n",
    "    \"\"\"\n",
    "    m = ID_PATTERN.match(original.name)\n",
    "    if not m:\n",
    "        return None                       # already good or foreign file\n",
    "    base_id = m.group(1)\n",
    "    if original.name.endswith(\"[1].png\"):\n",
    "        return \"BPMN.png\"                 # e.g. CEM_110[1].png → BPMN.png\n",
    "    else:\n",
    "        return \"UML Use Case.png\"         # e.g. CEM_110.png → UML Use Case.png\n",
    "\n",
    "def rename_images():\n",
    "    for img in CASES_ROOT.rglob(\"*.png\"):\n",
    "        target_name = canonical_name(img)\n",
    "        if target_name is None:\n",
    "            continue                      # skip files that are already OK\n",
    "        target_path = img.with_name(target_name)\n",
    "        if target_path.exists():\n",
    "            print(f\"⚠️  {target_path} already exists – skipping {img.name}\")\n",
    "            continue\n",
    "        move(img, target_path)\n",
    "        print(f\"✓  {img.relative_to(CASES_ROOT.parent)}  ➜  {target_path.name}\")\n",
    "\n",
    "if __name__ == \"__main__\":\n",
    "    rename_images()\n"
   ]
  },
  {
   "cell_type": "code",
   "execution_count": 32,
   "id": "00fd9264-04e9-43c2-a7e3-dfa2488a4faf",
   "metadata": {},
   "outputs": [
    {
     "name": "stdout",
     "output_type": "stream",
     "text": [
      "Archive created at: /home/jorick/documents/cases_for_drive.zip\n"
     ]
    }
   ],
   "source": [
    "from pathlib import Path\n",
    "import shutil\n",
    "\n",
    "source_dir = Path(\"cases\")       \n",
    "assert source_dir.exists(), f\"{source_dir} does not exist.\"\n",
    "\n",
    "zip_stem = \"cases_for_drive\"       \n",
    "\n",
    "archive_path = shutil.make_archive(zip_stem, format=\"zip\", root_dir=source_dir)\n",
    "\n",
    "print(f\"Archive created at: {archive_path}\")"
   ]
  }
 ],
 "metadata": {
  "kernelspec": {
   "display_name": "Python 3 (ipykernel)",
   "language": "python",
   "name": "python3"
  },
  "language_info": {
   "codemirror_mode": {
    "name": "ipython",
    "version": 3
   },
   "file_extension": ".py",
   "mimetype": "text/x-python",
   "name": "python",
   "nbconvert_exporter": "python",
   "pygments_lexer": "ipython3",
   "version": "3.10.17"
  }
 },
 "nbformat": 4,
 "nbformat_minor": 5
}
